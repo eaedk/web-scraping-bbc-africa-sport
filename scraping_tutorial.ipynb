{
  "cells": [
    {
      "cell_type": "markdown",
      "metadata": {
        "id": "ya2GTB_YZ5wp",
        "colab_type": "text"
      },
      "source": [
        "# Bienvenue au Live Coding (Web Scraping) ***Data Science CI***\n",
        "\n",
        "___\n",
        "\n",
        "<div align='center'>\n",
        "\n",
        "<img src=\"https://fiverr-res.cloudinary.com/images/q_auto,f_auto/gigs/134606170/original/fb4be771c30d6cb17fa9caee0322a7f6aeb843d0/do-data-mining-web-scraping-from-website-or-webpage-to-excel.png\" alt=\"logo web scraping\" >\n",
        "\n",
        "</div>\n",
        "\n",
        "Source : Google Images\n",
        "\n",
        "___"
      ]
    },
    {
      "cell_type": "markdown",
      "metadata": {
        "id": "ttl_2anUZ5wr",
        "colab_type": "text"
      },
      "source": [
        "## Web Scraping\n",
        "**Description:** Web scraping, web harvesting, or web data extraction is data scraping used for extracting data from websites. Web scraping software may access the World Wide Web directly using the Hypertext Transfer Protocol, or through a web browser. While web scraping can be done manually by a software user, the term typically refers to automated processes implemented using a bot or web crawler. It is a form of copying, in which specific data is gathered and copied from the web, typically into a central local database or spreadsheet, for later retrieval or analysis.\n",
        "\n",
        "**Scraping package:** beautifulsoup4\n",
        "\n",
        "___"
      ]
    },
    {
      "cell_type": "markdown",
      "metadata": {
        "id": "7Kqobo8YZ5wx",
        "colab_type": "text"
      },
      "source": [
        "# Live Coding"
      ]
    },
    {
      "cell_type": "markdown",
      "metadata": {
        "id": "P7BwZt0EZ5wz",
        "colab_type": "text"
      },
      "source": [
        "## Install and Import needed packages"
      ]
    },
    {
      "cell_type": "code",
      "metadata": {
        "id": "tIfT7tyoZ5w2",
        "colab_type": "code",
        "colab": {}
      },
      "source": [
        "!pip install --quiet beautifulsoup4 # useful to manipulate web pages source code\n",
        "!pip install --quiet pandas # useful to structure collected data"
      ],
      "execution_count": 1,
      "outputs": []
    },
    {
      "cell_type": "code",
      "metadata": {
        "id": "138C1V4tZ5w_",
        "colab_type": "code",
        "colab": {}
      },
      "source": [
        "from bs4 import BeautifulSoup as bs\n",
        "from dateutil.parser import parse\n",
        "import pandas as pd\n",
        "import requests # useful to request web pages and get their source coded"
      ],
      "execution_count": 2,
      "outputs": []
    },
    {
      "cell_type": "markdown",
      "metadata": {
        "id": "O1WmJPwdZ5xG",
        "colab_type": "text"
      },
      "source": [
        "## Set url and request it"
      ]
    },
    {
      "cell_type": "code",
      "metadata": {
        "id": "rPL3MAvkZ5xH",
        "colab_type": "code",
        "colab": {}
      },
      "source": [
        "# BBC Africa Sport page link\n",
        "page_url = 'https://www.bbc.com/afrique/topics/c404v54yrqyt' \n",
        "\n",
        "# We request the page to get the whole page code source\n",
        "response = requests.get(page_url)"
      ],
      "execution_count": 3,
      "outputs": []
    },
    {
      "cell_type": "code",
      "metadata": {
        "id": "Pcg2T3XeZ5xL",
        "colab_type": "code",
        "colab": {
          "base_uri": "https://localhost:8080/",
          "height": 35
        },
        "outputId": "df325be1-4d43-4d7f-d05b-0e6d7c55b2bf"
      },
      "source": [
        "## Check Status Code of request to see if the request was successful\n",
        "response.status_code # <></>"
      ],
      "execution_count": 4,
      "outputs": [
        {
          "output_type": "execute_result",
          "data": {
            "text/plain": [
              "200"
            ]
          },
          "metadata": {
            "tags": []
          },
          "execution_count": 4
        }
      ]
    },
    {
      "cell_type": "markdown",
      "metadata": {
        "id": "H7n7A21GZ5xR",
        "colab_type": "text"
      },
      "source": [
        "<div align='center'>\n",
        "<p style='text-align:center'><b>Summary of HTTP request status codes</b></p>\n",
        "<img src=\"https://www.researchgate.net/profile/Vaibhav_Hemant_Dixit/publication/328327565/figure/tbl1/AS:682534392303619@1539740288388/HTTP-response-codes-and-inference.png\" alt=\"Table of HTTP request status codes\" >\n",
        "\n",
        "</div>\n",
        "\n",
        "Source : AIM-SDN: Attacking Information Mismanagement in SDN-datastores _found on Research Gate_\n",
        "\n",
        "\n",
        "\n"
      ]
    },
    {
      "cell_type": "markdown",
      "metadata": {
        "id": "_ipyV8uSZ5xS",
        "colab_type": "text"
      },
      "source": [
        "## Show response text content and Parse the content to BeautifulSoup"
      ]
    },
    {
      "cell_type": "code",
      "metadata": {
        "id": "SOWiR0V6Z5xU",
        "colab_type": "code",
        "colab": {}
      },
      "source": [
        "# print(response.text [:788])"
      ],
      "execution_count": 5,
      "outputs": []
    },
    {
      "cell_type": "markdown",
      "metadata": {
        "id": "kx8m_T_SZ5xa",
        "colab_type": "raw"
      },
      "source": [
        "<!DOCTYPE html>\n",
        "<html lang=\"fr-002\" class=\"b-pw-1280\" id=\"responsive-news\">\n",
        "<head>\n",
        "    <meta name=\"viewport\" content=\"width=device-width, initial-scale=1, user-scalable=1\">\n",
        "    <meta name=\"robots\" content=\"NOODP,NOYDIR\" />\n",
        "    <meta charset=\"utf-8\">\n",
        "    <meta http-equiv=\"X-UA-Compatible\" content=\"IE=edge,chrome=1\">\n",
        "    <meta http-equiv=\"cleartype\" content=\"on\">\n",
        "    <link rel=\"preload\" as=\"script\" href=\"//fig.bbc.co.uk/frameworks/fig/2/fig.js?callback=orb.orb_fig\">\n",
        "    <link href=\"//static.bbc.co.uk\" rel=\"preconnect\" crossorigin>\n",
        "    <link href=\"//nav.files.bbci.co.uk\" rel=\"preconnect\" crossorigin>\n",
        "    <link href=\"//m.files.bbci.co.uk\" rel=\"preconnect\" crossorigin>\n",
        "    <link rel=\"dns-prefetch\" href=\"//mybbc.files.bbci.co.uk\">\n",
        "    <link rel=\"dns-prefetch\" href=\"//ssl.bbc.co.uk/\">"
      ]
    },
    {
      "cell_type": "code",
      "metadata": {
        "id": "olukehVHZ5xb",
        "colab_type": "code",
        "colab": {}
      },
      "source": [
        "# Parsing response to BeautifulSoup to handle it\n",
        "soup = bs(response.text)"
      ],
      "execution_count": 6,
      "outputs": []
    },
    {
      "cell_type": "code",
      "metadata": {
        "id": "9V-C-xsYZ5xk",
        "colab_type": "code",
        "colab": {
          "base_uri": "https://localhost:8080/",
          "height": 35
        },
        "outputId": "5c8b18e2-1934-44b8-f18d-9a25f5e28185"
      },
      "source": [
        "type(soup)"
      ],
      "execution_count": 7,
      "outputs": [
        {
          "output_type": "execute_result",
          "data": {
            "text/plain": [
              "bs4.BeautifulSoup"
            ]
          },
          "metadata": {
            "tags": []
          },
          "execution_count": 7
        }
      ]
    },
    {
      "cell_type": "code",
      "metadata": {
        "id": "ZHz3p8CYZ5xq",
        "colab_type": "code",
        "colab": {}
      },
      "source": [
        "#To get help in order to use the created soup variable from bs4.BeautifulSoup type\n",
        "\n",
        "# help(soup)"
      ],
      "execution_count": 8,
      "outputs": []
    },
    {
      "cell_type": "markdown",
      "metadata": {
        "id": "ih8SGWl2Z5xv",
        "colab_type": "raw"
      },
      "source": [
        "Help on BeautifulSoup in module bs4 object:\n",
        "\n",
        "class BeautifulSoup(bs4.element.Tag)\n",
        " |  BeautifulSoup(markup='', features=None, builder=None, parse_only=None, from_encoding=None, exclude_encodings=None, element_classes=None, **kwargs)\n",
        " |  \n",
        " |  A data structure..."
      ]
    },
    {
      "cell_type": "markdown",
      "metadata": {
        "id": "gARrIJc0Z5xv",
        "colab_type": "text"
      },
      "source": [
        "## Use the BeautifulSoup object to gather informations that we want"
      ]
    },
    {
      "cell_type": "markdown",
      "metadata": {
        "id": "a-7P7zniZ5xw",
        "colab_type": "text"
      },
      "source": [
        "> Here we want to get all informations about publications of the target web page.\n",
        "We use Browser inspector to do that.\n",
        "\n",
        "> We found that each publication is in `<li>` tag the whole in `<ol>` tag with attribute `class=\"gs-u-m0 gs-u-p0 lx-stream__feed qa-stream\"`. We'll use `BeautifulSoup` methods `find` and `find_all` to retrieve tags which contain useful data.\n",
        "\n",
        "\n",
        "<div align='center'>\n",
        "\n",
        "<img src=\"https://drive.google.com/uc?export=view&id=1EDKWf9Nt7nQ53T1JwupAOYqJ2CjrJFAe\" alt=\"BBC Africa Sport inspecting in Google Chrome\" >\n",
        "\n",
        "</div>\n",
        "Source : Emmanuel KOUPOH"
      ]
    },
    {
      "cell_type": "markdown",
      "metadata": {
        "id": "cNvK6812Z5xx",
        "colab_type": "text"
      },
      "source": [
        "> After inpection, We found that there have two main types of publications :  `articles (containing image and text)` and `video reportages`. Then we'll follow the next steps to do our Scraping : \n",
        "\n",
        "1.   Isolate the tag `<ol>` which contains all publications ;\n",
        "1.   Gather each `<li>` which represents a publication ; \n",
        "1.   Make a prototype for each of two main types of publications ; \n",
        "1.   Run a loop over all `<li>` of isolated the `<ol>`."
      ]
    },
    {
      "cell_type": "markdown",
      "metadata": {
        "id": "O0nuTckPZ5xy",
        "colab_type": "text"
      },
      "source": [
        "### Isolate the tag `<ol>` which contains all publications"
      ]
    },
    {
      "cell_type": "code",
      "metadata": {
        "id": "FIPbWV2FZ5xz",
        "colab_type": "code",
        "colab": {}
      },
      "source": [
        "publications_container = soup.find(\"ol\", {\"class\" : \"gs-u-m0 gs-u-p0 lx-stream__feed qa-stream\"} )"
      ],
      "execution_count": 9,
      "outputs": []
    },
    {
      "cell_type": "markdown",
      "metadata": {
        "id": "ewSRn-XAZ5x4",
        "colab_type": "text"
      },
      "source": [
        "Just an info : find method return a tag that we have to handle like a BoutifulSoup object."
      ]
    },
    {
      "cell_type": "code",
      "metadata": {
        "id": "ICWFgPr4Z5x6",
        "colab_type": "code",
        "colab": {
          "base_uri": "https://localhost:8080/",
          "height": 176
        },
        "outputId": "a528e46f-c610-4f14-ebed-668b38060fd7"
      },
      "source": [
        "print(f\"{publications_container.prettify()[:788]}...\")"
      ],
      "execution_count": 10,
      "outputs": [
        {
          "output_type": "stream",
          "text": [
            "<ol class=\"gs-u-m0 gs-u-p0 lx-stream__feed qa-stream\" data-reactid=\".9u0rhgjoho.1.0.1.1\">\n",
            " <noscript data-reactid=\".9u0rhgjoho.1.0.1.1.0\">\n",
            " </noscript>\n",
            " <li class=\"lx-stream__post-container placeholder-animation-finished\" data-reactid=\".9u0rhgjoho.1.0.1.1.1:$post-53279666\">\n",
            "  <article aria-labelledby=\"title_53279666\" class=\"qa-post gs-u-pb-alt+ lx-stream-post gs-u-pt-alt+ gs-u-align-left\" data-reactid=\".9u0rhgjoho.1.0.1.1.1:$post-53279666.0\" id=\"post_53279666\">\n",
            "   <div class=\"gs-u-mb-\" data-reactid=\".9u0rhgjoho.1.0.1.1.1:$post-53279666.0.0\">\n",
            "    <time class=\"lx-stream-post__meta-time gs-u-align-middle gs-u-display-inline-block gs-u-mr0@m gs-u-mr gel-long-primer\" data-reactid=\".9u0rhgjoho.1.0.1.1.1:$post-53279666.0.0.0\">\n",
            "     <span class=\"gs-u-vh qa-visually-hidden-meta\" data-re...\n"
          ],
          "name": "stdout"
        }
      ]
    },
    {
      "cell_type": "markdown",
      "metadata": {
        "id": "RSk1-4-7Z5x-",
        "colab_type": "text"
      },
      "source": [
        "### Gather each `<li>` which represents a publication"
      ]
    },
    {
      "cell_type": "code",
      "metadata": {
        "id": "fGHEPjTDZ5x_",
        "colab_type": "code",
        "colab": {}
      },
      "source": [
        "publications_list = publications_container.find_all(\"li\", {\"class\" : \"lx-stream__post-container placeholder-animation-finished\"} )"
      ],
      "execution_count": 11,
      "outputs": []
    },
    {
      "cell_type": "markdown",
      "metadata": {
        "id": "qcow9Ee4Z5yE",
        "colab_type": "text"
      },
      "source": [
        "Just an info : find_all method return a list of tags and each tag have to be handle like a BoutifulSoup object."
      ]
    },
    {
      "cell_type": "code",
      "metadata": {
        "id": "7aRFZRSEZ5yF",
        "colab_type": "code",
        "colab": {
          "base_uri": "https://localhost:8080/",
          "height": 35
        },
        "outputId": "7386a4a7-495a-439e-fe7a-ecfd54d36ae8"
      },
      "source": [
        "print(f\"How many publications do we have in our container of publications : {len(publications_list)}\")"
      ],
      "execution_count": 12,
      "outputs": [
        {
          "output_type": "stream",
          "text": [
            "How many publications do we have in our container of publications : 10\n"
          ],
          "name": "stdout"
        }
      ]
    },
    {
      "cell_type": "markdown",
      "metadata": {
        "id": "fp2GheHQZ5yL",
        "colab_type": "text"
      },
      "source": [
        "\n",
        "> We see that first and second publications are respectivement a `video reportage` and a `readable article (containing image and text)`. Then we'll use them to build our prototypes.\n",
        "\n",
        "<div align='center'>\n",
        "\n",
        "<img src=\"https://drive.google.com/uc?export=view&id=10TxXXWYc8okDPpcprVPcvZQQpaneu0fw\" alt=\"First and Second publications on BBC Africa Sport inspecting in Google Chrome\" >\n",
        "\n",
        "</div>\n",
        "Source : Emmanuel KOUPOH\n",
        "\n",
        "____"
      ]
    },
    {
      "cell_type": "markdown",
      "metadata": {
        "id": "xujCOoqiZ5yM",
        "colab_type": "text"
      },
      "source": [
        "### Make a prototype for each of two main types of publications"
      ]
    },
    {
      "cell_type": "markdown",
      "metadata": {
        "id": "CdY_rZneZ5yN",
        "colab_type": "text"
      },
      "source": [
        "**Note:** We have two similar informations: Date and Title block"
      ]
    },
    {
      "cell_type": "markdown",
      "metadata": {
        "id": "hfmqVPlYZ5yO",
        "colab_type": "text"
      },
      "source": [
        "#### Video reportage "
      ]
    },
    {
      "cell_type": "code",
      "metadata": {
        "id": "Rdee5K1UZ5yP",
        "colab_type": "code",
        "colab": {}
      },
      "source": [
        "video = publications_list[0]"
      ],
      "execution_count": 13,
      "outputs": []
    },
    {
      "cell_type": "markdown",
      "metadata": {
        "id": "GqisaeaiZ5yV",
        "colab_type": "text"
      },
      "source": [
        "##### Get Date"
      ]
    },
    {
      "cell_type": "code",
      "metadata": {
        "id": "YhsIxOd1Z5yX",
        "colab_type": "code",
        "colab": {
          "base_uri": "https://localhost:8080/",
          "height": 0
        },
        "outputId": "3f75533b-59f0-4913-e9dc-4ad41fd710f0"
      },
      "source": [
        "datetime_cell = video.find(\"span\", {\"class\": \"qa-post-auto-meta\"})\n",
        "datetime_cell"
      ],
      "execution_count": 14,
      "outputs": [
        {
          "output_type": "execute_result",
          "data": {
            "text/plain": [
              "<span aria-hidden=\"true\" class=\"qa-post-auto-meta\" data-reactid=\".9u0rhgjoho.1.0.1.1.1:$post-53279666.0.0.0.1\">18:59 3 juillet 2020</span>"
            ]
          },
          "metadata": {
            "tags": []
          },
          "execution_count": 14
        }
      ]
    },
    {
      "cell_type": "markdown",
      "metadata": {
        "id": "_oed15saZ5yf",
        "colab_type": "text"
      },
      "source": [
        "We get date as french string ( '18:59 3 juillet 2020' ), so we conveter it in english and parse it to datetime\n"
      ]
    },
    {
      "cell_type": "code",
      "metadata": {
        "id": "LhJhyKZqZ5yg",
        "colab_type": "code",
        "colab": {
          "base_uri": "https://localhost:8080/",
          "height": 0
        },
        "outputId": "30196c10-4e2c-4cf1-979c-48446aab1a04"
      },
      "source": [
        "date = datetime_cell.text.strip().lower().replace('janvier', 'january').replace('février', 'february').replace('mars', 'march').replace('avril', 'april').replace('mai', 'may').replace('juin', 'june').replace('juillet', 'july').replace('août', 'august').replace('septembre', 'september').replace('octobre', 'october').replace('novembre', 'november').replace('décembre', 'december')\n",
        "date = parse(date, fuzzy_with_tokens=True)[0]\n",
        "date"
      ],
      "execution_count": 15,
      "outputs": [
        {
          "output_type": "execute_result",
          "data": {
            "text/plain": [
              "datetime.datetime(2020, 7, 3, 18, 59)"
            ]
          },
          "metadata": {
            "tags": []
          },
          "execution_count": 15
        }
      ]
    },
    {
      "cell_type": "markdown",
      "metadata": {
        "id": "QIOreutcZ5yn",
        "colab_type": "text"
      },
      "source": [
        "##### Get article's Title and Link"
      ]
    },
    {
      "cell_type": "code",
      "metadata": {
        "scrolled": true,
        "id": "m8hQ7kIxZ5yo",
        "colab_type": "code",
        "colab": {
          "base_uri": "https://localhost:8080/",
          "height": 0
        },
        "outputId": "e9a7d463-fce9-4b43-b68f-138342ccfa55"
      },
      "source": [
        "header = video.find(\"a\", {\"class\": \"qa-heading-link lx-stream-post__header-link\"})\n",
        "\n",
        "title = header.text.strip()\n",
        "link = \"https://www.bbc.com\" + header['href']\n",
        "\n",
        "print(f\"Title : {title}\\nLink : {link}\")"
      ],
      "execution_count": 16,
      "outputs": [
        {
          "output_type": "stream",
          "text": [
            "Title : Rencontre avec l'enfant boxeur le plus rapide du monde\n",
            "Link : https://www.bbc.com/afrique/media-53279666\n"
          ],
          "name": "stdout"
        }
      ]
    },
    {
      "cell_type": "markdown",
      "metadata": {
        "id": "yk80cYhcZ5ys",
        "colab_type": "text"
      },
      "source": [
        "##### Get Video link\n"
      ]
    },
    {
      "cell_type": "code",
      "metadata": {
        "id": "VdMO9ND2Z5yt",
        "colab_type": "code",
        "colab": {}
      },
      "source": [
        "video_response = requests.get(link)\n",
        "video_soup = bs(video_response.text)\n",
        "\n",
        "video_cell = video_soup.find(\"figure\", {\"class\": \"Figure-sc-6a3dhy-0 gJUCFc\"})\n"
      ],
      "execution_count": 17,
      "outputs": []
    },
    {
      "cell_type": "code",
      "metadata": {
        "id": "dvI0ZVR4Z5yw",
        "colab_type": "code",
        "colab": {
          "base_uri": "https://localhost:8080/",
          "height": 0
        },
        "outputId": "631542be-b71f-474b-d5b9-a87411be1f2d"
      },
      "source": [
        "video_cell"
      ],
      "execution_count": 18,
      "outputs": [
        {
          "output_type": "execute_result",
          "data": {
            "text/plain": [
              "<figure class=\"Figure-sc-6a3dhy-0 gJUCFc\"><div class=\"StyledVideoContainer-sc-13p1a4d-0 bpuDKK\"><iframe allow=\"autoplay; fullscreen\" allowfullscreen=\"\" class=\"StyledIframe-fuo2ed-0 dIyDYU\" scrolling=\"no\" src=\"https://polling.bbc.co.uk/ws/av-embeds/cps/afrique/media-53279666/p08jsrj3/fr\" title=\"Lecteur média\"></iframe><noscript><div class=\"StyledWrapper-sc-1pnftlt-0 jywlaE\"><img alt=\"\" aria-hidden=\"true\" class=\"StyledImg-sc-7vx2mr-0 hIxkbt\" src=\"https://ichef.bbci.co.uk/images/ic/1024x576/p08jssj5.jpg\" srcset=\"https://ichef.bbci.co.uk/images/ic/1024x576/p08jssj5.jpg 240w, https://ichef.bbci.co.uk/images/ic/1024x576/p08jssj5.jpg 320w, https://ichef.bbci.co.uk/images/ic/1024x576/p08jssj5.jpg 480w, https://ichef.bbci.co.uk/images/ic/1024x576/p08jssj5.jpg 624w, https://ichef.bbci.co.uk/images/ic/1024x576/p08jssj5.jpg 800w\"/><div class=\"MessageWrapper-sc-1pnftlt-1 bHbRwS\"><strong class=\"StyledMessage-sc-1pnftlt-2 iRlUPR\">Pour regarder ce contenu, veuillez activer JavaScript ou essayer un autre navigateur.</strong></div></div></noscript></div></figure>"
            ]
          },
          "metadata": {
            "tags": []
          },
          "execution_count": 18
        }
      ]
    },
    {
      "cell_type": "code",
      "metadata": {
        "id": "p2MtUSoPZ5yz",
        "colab_type": "code",
        "colab": {}
      },
      "source": [
        "video_cover_img = video_cell.img['src']"
      ],
      "execution_count": 19,
      "outputs": []
    },
    {
      "cell_type": "code",
      "metadata": {
        "id": "7pBxelMOZ5y2",
        "colab_type": "code",
        "colab": {}
      },
      "source": [
        "video_link = video_cell.iframe['src']"
      ],
      "execution_count": 20,
      "outputs": []
    },
    {
      "cell_type": "markdown",
      "metadata": {
        "id": "OJ3JiM2-Z5y5",
        "colab_type": "text"
      },
      "source": [
        "#### Article"
      ]
    },
    {
      "cell_type": "code",
      "metadata": {
        "id": "lbDYxa3cZ5y6",
        "colab_type": "code",
        "colab": {}
      },
      "source": [
        "image = publications_list[1]"
      ],
      "execution_count": 21,
      "outputs": []
    },
    {
      "cell_type": "markdown",
      "metadata": {
        "id": "SRXllSJiZ5y-",
        "colab_type": "text"
      },
      "source": [
        "##### Get Image of article"
      ]
    },
    {
      "cell_type": "code",
      "metadata": {
        "id": "BL1cMbjjZ5y_",
        "colab_type": "code",
        "colab": {
          "base_uri": "https://localhost:8080/",
          "height": 0
        },
        "outputId": "39a671fc-22c8-4436-d50f-d83afd595725"
      },
      "source": [
        "div_image_cell = image.find(\"div\", {\"class\": \"lx-stream-related-story--index-image-wrapper qa-story-image-wrapper\"})\n",
        "\n",
        "image_cell = div_image_cell.img\n",
        "img_srcs_list = image_cell['srcset'].split()\n",
        "img_srcs_dict ={ img_srcs_list[i+1][:-1] : img_srcs_list[i]  for i in range( 0, len(img_srcs_list) // 2, 2) }\n",
        "\n",
        "img_srcs_dict"
      ],
      "execution_count": 22,
      "outputs": [
        {
          "output_type": "execute_result",
          "data": {
            "text/plain": [
              "{'240w': 'https://ichef.bbci.co.uk/live-experience/cps/240/cpsprodpb/CE90/production/_113108825_whatsubject.jpg',\n",
              " '320w': 'https://ichef.bbci.co.uk/live-experience/cps/320/cpsprodpb/CE90/production/_113108825_whatsubject.jpg',\n",
              " '480w': 'https://ichef.bbci.co.uk/live-experience/cps/480/cpsprodpb/CE90/production/_113108825_whatsubject.jpg'}"
            ]
          },
          "metadata": {
            "tags": []
          },
          "execution_count": 22
        }
      ]
    },
    {
      "cell_type": "markdown",
      "metadata": {
        "id": "aIHymLgQZ5zC",
        "colab_type": "text"
      },
      "source": [
        "##### Get article Primer"
      ]
    },
    {
      "cell_type": "code",
      "metadata": {
        "scrolled": false,
        "id": "67_JOZ8oZ5zC",
        "colab_type": "code",
        "colab": {
          "base_uri": "https://localhost:8080/",
          "height": 0
        },
        "outputId": "1fe5e215-095c-49c6-8e65-8e5638f95274"
      },
      "source": [
        "primer_cell = image.find(\"p\", {\"class\": \"lx-stream-related-story--summary qa-story-summary\"})\n",
        "\n",
        "primer = primer_cell.text \n",
        "primer"
      ],
      "execution_count": 23,
      "outputs": [
        {
          "output_type": "execute_result",
          "data": {
            "application/vnd.google.colaboratory.intrinsic": {
              "type": "string"
            },
            "text/plain": [
              "'Comment le premier titre de première division de Liverpool en Angleterre depuis 30 ans a été alimenté par des joueurs africains.'"
            ]
          },
          "metadata": {
            "tags": []
          },
          "execution_count": 23
        }
      ]
    },
    {
      "cell_type": "markdown",
      "metadata": {
        "id": "KRR7HaXiZ5zF",
        "colab_type": "text"
      },
      "source": [
        "#### Prototypes"
      ]
    },
    {
      "cell_type": "markdown",
      "metadata": {
        "id": "VtjPCRu4Z5zG",
        "colab_type": "text"
      },
      "source": [
        "***Note***: We are looking for a condition here to differentiate **video reportages** from **articles**."
      ]
    },
    {
      "cell_type": "code",
      "metadata": {
        "scrolled": true,
        "id": "qBvUamPIZ5zG",
        "colab_type": "code",
        "colab": {
          "base_uri": "https://localhost:8080/",
          "height": 0
        },
        "outputId": "4437a587-de6d-4ca4-bbdc-dc9c21b1fcb6"
      },
      "source": [
        "len(video.find_all(\"img\"))"
      ],
      "execution_count": 24,
      "outputs": [
        {
          "output_type": "execute_result",
          "data": {
            "text/plain": [
              "0"
            ]
          },
          "metadata": {
            "tags": []
          },
          "execution_count": 24
        }
      ]
    },
    {
      "cell_type": "code",
      "metadata": {
        "scrolled": true,
        "id": "CBdcFDqYZ5zJ",
        "colab_type": "code",
        "colab": {
          "base_uri": "https://localhost:8080/",
          "height": 0
        },
        "outputId": "f1ff10b0-71d3-443c-9577-459bd51c3690"
      },
      "source": [
        "len(image.find_all(\"img\"))"
      ],
      "execution_count": 25,
      "outputs": [
        {
          "output_type": "execute_result",
          "data": {
            "text/plain": [
              "1"
            ]
          },
          "metadata": {
            "tags": []
          },
          "execution_count": 25
        }
      ]
    },
    {
      "cell_type": "markdown",
      "metadata": {
        "id": "cCa07jHTZ5zM",
        "colab_type": "text"
      },
      "source": [
        "***Note***: Building method prototypes for data gathering : `video` for **video reportages** and `article` for **articles**. ."
      ]
    },
    {
      "cell_type": "code",
      "metadata": {
        "id": "LQs0WwaWZ5zN",
        "colab_type": "code",
        "colab": {}
      },
      "source": [
        "def video(publication_tag):\n",
        "    video = publication_tag\n",
        "    \n",
        "    #Get date\n",
        "    datetime_cell = video.find(\"span\", {\"class\": \"qa-post-auto-meta\"})\n",
        "    date = datetime_cell.text.strip().lower().replace('janvier', 'january').replace('février', 'february').replace('mars', 'march').replace('avril', 'april').replace('mai', 'may').replace('juin', 'june').replace('juillet', 'july').replace('août', 'august').replace('septembre', 'september').replace('octobre', 'october').replace('novembre', 'november').replace('décembre', 'december')\n",
        "    date = parse(date, fuzzy_with_tokens=True)[0]\n",
        "    \n",
        "    #Get publication's title and link\n",
        "    header = video.find(\"a\", {\"class\": \"qa-heading-link lx-stream-post__header-link\"})\n",
        "    title = header.text.strip()\n",
        "    link = \"https://www.bbc.com\" + header['href']\n",
        "\n",
        "    #Get video link\n",
        "    video_response = requests.get(link)\n",
        "    video_soup = bs(video_response.text)\n",
        "    video_cell = video_soup.find(\"figure\", {\"class\": \"Figure-sc-6a3dhy-0 gJUCFc\"})\n",
        "    video_cover_img = video_cell.img['src']\n",
        "    video_link = video_cell.iframe['src']\n",
        "    \n",
        "    #Save and structure gathered informations\n",
        "    data =  {\n",
        "        \"type\" : 'video',\n",
        "        \"publication_link\" : link,\n",
        "        \"date\" : date, \n",
        "        \"title\" : title, \n",
        "        \"video_cover\" : video_cover_img, \n",
        "        \"video_link\" : video_link, \n",
        "    }\n",
        "    return data\n",
        "\n",
        "\n",
        "def article(publication_tag):\n",
        "    image = publication_tag\n",
        "    \n",
        "    #Get date\n",
        "    datetime_cell = image.find(\"span\", {\"class\": \"qa-post-auto-meta\"})\n",
        "    date = datetime_cell.text.strip().lower().replace('janvier', 'january').replace('février', 'february').replace('mars', 'march').replace('avril', 'april').replace('mai', 'may').replace('juin', 'june').replace('juillet', 'july').replace('août', 'august').replace('septembre', 'september').replace('octobre', 'october').replace('novembre', 'november').replace('décembre', 'december')\n",
        "    date = parse(date, fuzzy_with_tokens=True)[0]\n",
        "    \n",
        "    #Get title and link\n",
        "    header = image.find(\"a\", {\"class\": \"qa-heading-link lx-stream-post__header-link\"})\n",
        "    title = header.text.strip()\n",
        "    link = \"https://www.bbc.com\" + header['href']\n",
        "    \n",
        "    #Get publication cover source set : { '320W' : link, '720W' : link} : many size for reponsivity\n",
        "    div_image_cell = image.find(\"div\", {\"class\": \"lx-stream-related-story--index-image-wrapper qa-story-image-wrapper\"})\n",
        "    image_cell = div_image_cell.img\n",
        "    img_srcs_list = image_cell['srcset'].split()\n",
        "    img_srcs_dict = { img_srcs_list[i+1][:-1] : img_srcs_list[i]  for i in range( 0, len(img_srcs_list) // 2, 2) }\n",
        "    \n",
        "    #Get article primer \n",
        "    primer_cell = image.find(\"p\", {\"class\": \"lx-stream-related-story--summary qa-story-summary\"})\n",
        "    primer = primer_cell.text \n",
        "\n",
        "    #Save and structure gathered informations\n",
        "    data =  {\n",
        "        \"type\" : 'article',\n",
        "        \"publication_link\" : link,\n",
        "        \"date\" : date, \n",
        "        \"title\" : title, \n",
        "        \"img_srcs_dict\" : img_srcs_dict, \n",
        "        \"primer\" : primer,\n",
        "    }\n",
        "    return data"
      ],
      "execution_count": 26,
      "outputs": []
    },
    {
      "cell_type": "markdown",
      "metadata": {
        "id": "04dH0Ik0Z5zQ",
        "colab_type": "text"
      },
      "source": [
        "### Run a loop over all `<li>` of isolated the `<ol>` "
      ]
    },
    {
      "cell_type": "code",
      "metadata": {
        "id": "1YARJl9BZ5zQ",
        "colab_type": "code",
        "colab": {
          "base_uri": "https://localhost:8080/",
          "height": 35
        },
        "outputId": "d3c9e1c5-ca25-4f66-c285-bbe451c071f8"
      },
      "source": [
        "store = []\n",
        "for publication in publications_list: \n",
        "    if len(publication.find_all(\"img\")) == 1 :\n",
        "        store += [article(publication)]\n",
        "    else:\n",
        "        store += [video(publication)]\n",
        "\n",
        "        \n",
        "print(f\"We got '{len(store)}' publication(s) on this page\")"
      ],
      "execution_count": 27,
      "outputs": [
        {
          "output_type": "stream",
          "text": [
            "We got '10' publication(s) on this page\n"
          ],
          "name": "stdout"
        }
      ]
    },
    {
      "cell_type": "code",
      "metadata": {
        "scrolled": false,
        "id": "xRq_nY3JZ5zU",
        "colab_type": "code",
        "colab": {
          "base_uri": "https://localhost:8080/",
          "height": 638
        },
        "outputId": "9d94d8c8-a25c-4395-977f-4b6589a9fa22"
      },
      "source": [
        "df_store = pd.DataFrame(store)\n",
        "df_store.head()"
      ],
      "execution_count": 28,
      "outputs": [
        {
          "output_type": "execute_result",
          "data": {
            "text/html": [
              "<div>\n",
              "<style scoped>\n",
              "    .dataframe tbody tr th:only-of-type {\n",
              "        vertical-align: middle;\n",
              "    }\n",
              "\n",
              "    .dataframe tbody tr th {\n",
              "        vertical-align: top;\n",
              "    }\n",
              "\n",
              "    .dataframe thead th {\n",
              "        text-align: right;\n",
              "    }\n",
              "</style>\n",
              "<table border=\"1\" class=\"dataframe\">\n",
              "  <thead>\n",
              "    <tr style=\"text-align: right;\">\n",
              "      <th></th>\n",
              "      <th>type</th>\n",
              "      <th>publication_link</th>\n",
              "      <th>date</th>\n",
              "      <th>title</th>\n",
              "      <th>video_cover</th>\n",
              "      <th>video_link</th>\n",
              "      <th>img_srcs_dict</th>\n",
              "      <th>primer</th>\n",
              "    </tr>\n",
              "  </thead>\n",
              "  <tbody>\n",
              "    <tr>\n",
              "      <th>0</th>\n",
              "      <td>video</td>\n",
              "      <td>https://www.bbc.com/afrique/media-53279666</td>\n",
              "      <td>2020-07-03 18:59:00</td>\n",
              "      <td>Rencontre avec l'enfant boxeur le plus rapide ...</td>\n",
              "      <td>https://ichef.bbci.co.uk/images/ic/1024x576/p0...</td>\n",
              "      <td>https://polling.bbc.co.uk/ws/av-embeds/cps/afr...</td>\n",
              "      <td>NaN</td>\n",
              "      <td>NaN</td>\n",
              "    </tr>\n",
              "    <tr>\n",
              "      <th>1</th>\n",
              "      <td>article</td>\n",
              "      <td>https://www.bbc.com/afrique/sports-53191371</td>\n",
              "      <td>2020-06-26 14:19:00</td>\n",
              "      <td>Liverpool : les Africains qui ont aidé à rempo...</td>\n",
              "      <td>NaN</td>\n",
              "      <td>NaN</td>\n",
              "      <td>{'240w': 'https://ichef.bbci.co.uk/live-experi...</td>\n",
              "      <td>Comment le premier titre de première division ...</td>\n",
              "    </tr>\n",
              "    <tr>\n",
              "      <th>2</th>\n",
              "      <td>article</td>\n",
              "      <td>https://www.bbc.com/afrique/sports-53183843</td>\n",
              "      <td>2020-06-25 18:00:00</td>\n",
              "      <td>Liverpool à deux points du titre de Premier Le...</td>\n",
              "      <td>NaN</td>\n",
              "      <td>NaN</td>\n",
              "      <td>{'240w': 'https://ichef.bbci.co.uk/live-experi...</td>\n",
              "      <td>Mohamed Salah estime que le moment est venu po...</td>\n",
              "    </tr>\n",
              "    <tr>\n",
              "      <th>3</th>\n",
              "      <td>article</td>\n",
              "      <td>https://www.bbc.com/afrique/sports-53092788</td>\n",
              "      <td>2020-06-18 15:47:00</td>\n",
              "      <td>Marcus Rashford: la victoire d’un footballeur ...</td>\n",
              "      <td>NaN</td>\n",
              "      <td>NaN</td>\n",
              "      <td>{'240w': 'https://ichef.bbci.co.uk/live-experi...</td>\n",
              "      <td>Le gouvernement britannique a annoncé qu'il of...</td>\n",
              "    </tr>\n",
              "    <tr>\n",
              "      <th>4</th>\n",
              "      <td>article</td>\n",
              "      <td>https://www.bbc.com/afrique/sports-53066460</td>\n",
              "      <td>2020-06-17 10:36:00</td>\n",
              "      <td>8ème titre consécutif du Bayern de Munich</td>\n",
              "      <td>NaN</td>\n",
              "      <td>NaN</td>\n",
              "      <td>{'240w': 'https://ichef.bbci.co.uk/live-experi...</td>\n",
              "      <td>Une passe décisive de Robert Lewandowski à Jer...</td>\n",
              "    </tr>\n",
              "  </tbody>\n",
              "</table>\n",
              "</div>"
            ],
            "text/plain": [
              "      type  ...                                             primer\n",
              "0    video  ...                                                NaN\n",
              "1  article  ...  Comment le premier titre de première division ...\n",
              "2  article  ...  Mohamed Salah estime que le moment est venu po...\n",
              "3  article  ...  Le gouvernement britannique a annoncé qu'il of...\n",
              "4  article  ...  Une passe décisive de Robert Lewandowski à Jer...\n",
              "\n",
              "[5 rows x 8 columns]"
            ]
          },
          "metadata": {
            "tags": []
          },
          "execution_count": 28
        }
      ]
    },
    {
      "cell_type": "markdown",
      "metadata": {
        "id": "5WiKdTUPZ5zX",
        "colab_type": "text"
      },
      "source": [
        "**Training** : You could now try to access the button which leads to subsequent publications which would allow you to recover all the oldest publications available on this site. "
      ]
    },
    {
      "cell_type": "markdown",
      "metadata": {
        "id": "1xaTju3hZ5zY",
        "colab_type": "text"
      },
      "source": [
        "# 💻<span style='color:green'> Authors & Contributors </span>\n",
        "\n",
        "<div align='center'>\n",
        "    <table>\n",
        "        <thead>\n",
        "            <tr>\n",
        "                <th>Name</th>\n",
        "                <th>Zindi ID</th>\n",
        "                <th>Github ID</th>\n",
        "            </tr>\n",
        "        </thead>\n",
        "        <tbody>\n",
        "            <tr>\n",
        "                <td>Muhamed TUO</td>\n",
        "                <td><a href=\"https://zindi.africa/users/Muhamed_Tuo\" target=\"_blank\" rel=\"nofollow\">@Nazario😁</a></td>\n",
        "                <td><a href=\"https://github.com/NazarioR9\" target=\"_blank\" rel=\"nofollow\">@NazarioR9</a></td>\n",
        "            </tr>\n",
        "            <tr>\n",
        "                <td>Cédric MANOUAN</td>\n",
        "                <td><a href=\"https://zindi.africa/users/I_am_Zeus_AI\" target=\"_blank\" rel=\"nofollow\">@I_am_Zeus_AI😆</a></td>\n",
        "                <td><a href=\"https://github.com/dric2018\" target=\"_blank\" rel=\"nofollow\">@dric2018</a></td>\n",
        "            </tr>\n",
        "            <tr>\n",
        "                <td>Emmanuel KOUPOH</td>\n",
        "                <td><a href=\"https://zindi.africa/users/eaedk\" target=\"_blank\" rel=\"nofollow\">@eaedk😂</a></td>\n",
        "                <td><a href=\"https://github.com/eaedk\" target=\"_blank\" rel=\"nofollow\">@eaedk</a></td>\n",
        "            </tr>\n",
        "            <tr>\n",
        "                <td></td>\n",
        "                <td></td>\n",
        "                <td></td>\n",
        "            </tr>\n",
        "        </tbody>\n",
        "    </table>\n",
        "</div>\n"
      ]
    }
  ],
  "metadata": {
    "kernelspec": {
      "display_name": "Python 3",
      "language": "python",
      "name": "python3"
    },
    "language_info": {
      "codemirror_mode": {
        "name": "ipython",
        "version": 3
      },
      "file_extension": ".py",
      "mimetype": "text/x-python",
      "name": "python",
      "nbconvert_exporter": "python",
      "pygments_lexer": "ipython3",
      "version": "3.7.7"
    },
    "toc": {
      "base_numbering": 1,
      "nav_menu": {},
      "number_sections": true,
      "sideBar": true,
      "skip_h1_title": false,
      "title_cell": "Table of Contents",
      "title_sidebar": "Contents",
      "toc_cell": false,
      "toc_position": {
        "height": "calc(100% - 180px)",
        "left": "10px",
        "top": "150px",
        "width": "165px"
      },
      "toc_section_display": true,
      "toc_window_display": false
    },
    "colab": {
      "name": "scraping-tutorial.ipynb",
      "provenance": [],
      "collapsed_sections": [
        "hfmqVPlYZ5yO",
        "OJ3JiM2-Z5y5",
        "KRR7HaXiZ5zF"
      ]
    }
  },
  "nbformat": 4,
  "nbformat_minor": 0
}