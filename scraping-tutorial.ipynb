{
 "cells": [
  {
   "cell_type": "markdown",
   "metadata": {},
   "source": [
    "# Bienvenue au Live Coding (Web Scraping) ***Data Science CI***\n",
    "<div align='center'>\n",
    "\n",
    "    ------------------------\n",
    "</div>\n",
    "<div align='center'>\n",
    "\n",
    "<img src=\"https://fiverr-res.cloudinary.com/images/q_auto,f_auto/gigs/134606170/original/fb4be771c30d6cb17fa9caee0322a7f6aeb843d0/do-data-mining-web-scraping-from-website-or-webpage-to-excel.png\" alt=\"logo web scraping\" >\n",
    "\n",
    "</div>\n",
    "Source : Google Images\n",
    "\n",
    "___"
   ]
  },
  {
   "cell_type": "markdown",
   "metadata": {},
   "source": [
    "## Web Scraping\n",
    "**Description:** Web scraping, web harvesting, or web data extraction is data scraping used for extracting data from websites. Web scraping software may access the World Wide Web directly using the Hypertext Transfer Protocol, or through a web browser. While web scraping can be done manually by a software user, the term typically refers to automated processes implemented using a bot or web crawler. It is a form of copying, in which specific data is gathered and copied from the web, typically into a central local database or spreadsheet, for later retrieval or analysis.\n",
    "\n",
    "**Scraping package:** beautifulsoup4\n",
    "\n",
    "___"
   ]
  },
  {
   "cell_type": "markdown",
   "metadata": {},
   "source": [
    "# Live Coding"
   ]
  },
  {
   "cell_type": "markdown",
   "metadata": {},
   "source": [
    "## Install and Import needed packages"
   ]
  },
  {
   "cell_type": "code",
   "execution_count": 1,
   "metadata": {},
   "outputs": [],
   "source": [
    "!pip install --quiet beautifulsoup4 # useful to manipulate web pages source code\n",
    "!pip install --quiet pandas # useful to structure collected data"
   ]
  },
  {
   "cell_type": "code",
   "execution_count": 2,
   "metadata": {},
   "outputs": [],
   "source": [
    "from bs4 import BeautifulSoup as bs\n",
    "from dateutil.parser import parse\n",
    "import pandas as pd\n",
    "import requests # useful to request web pages and get their source coded"
   ]
  },
  {
   "cell_type": "markdown",
   "metadata": {},
   "source": [
    "## Set url and request it"
   ]
  },
  {
   "cell_type": "code",
   "execution_count": 3,
   "metadata": {},
   "outputs": [],
   "source": [
    "# BBC Africa Sport page link\n",
    "page_url = 'https://www.bbc.com/afrique/topics/c404v54yrqyt' \n",
    "\n",
    "# We request the page to get the whole page code source\n",
    "response = requests.get(page_url)"
   ]
  },
  {
   "cell_type": "code",
   "execution_count": 4,
   "metadata": {},
   "outputs": [
    {
     "data": {
      "text/plain": [
       "200"
      ]
     },
     "execution_count": 4,
     "metadata": {},
     "output_type": "execute_result"
    }
   ],
   "source": [
    "## Check Status Code of request to see if the request was successful\n",
    "response.status_code # <></>"
   ]
  },
  {
   "cell_type": "markdown",
   "metadata": {},
   "source": [
    "<div align='center'>\n",
    "<p style='text-align:center'><b>Summary of HTTP request status codes</b></p>\n",
    "<img src=\"https://www.researchgate.net/profile/Vaibhav_Hemant_Dixit/publication/328327565/figure/tbl1/AS:682534392303619@1539740288388/HTTP-response-codes-and-inference.png\" alt=\"Table of HTTP request status codes\" >\n",
    "\n",
    "</div>\n",
    "\n",
    "Source : AIM-SDN: Attacking Information Mismanagement in SDN-datastores _found on Research Gate_\n",
    "\n",
    "\n",
    "\n"
   ]
  },
  {
   "cell_type": "markdown",
   "metadata": {},
   "source": [
    "## Show response text content and Parse the content to BeautifulSoup"
   ]
  },
  {
   "cell_type": "code",
   "execution_count": 5,
   "metadata": {},
   "outputs": [],
   "source": [
    "# print(response.text [:788])"
   ]
  },
  {
   "cell_type": "raw",
   "metadata": {},
   "source": [
    "<!DOCTYPE html>\n",
    "<html lang=\"fr-002\" class=\"b-pw-1280\" id=\"responsive-news\">\n",
    "<head>\n",
    "    <meta name=\"viewport\" content=\"width=device-width, initial-scale=1, user-scalable=1\">\n",
    "    <meta name=\"robots\" content=\"NOODP,NOYDIR\" />\n",
    "    <meta charset=\"utf-8\">\n",
    "    <meta http-equiv=\"X-UA-Compatible\" content=\"IE=edge,chrome=1\">\n",
    "    <meta http-equiv=\"cleartype\" content=\"on\">\n",
    "    <link rel=\"preload\" as=\"script\" href=\"//fig.bbc.co.uk/frameworks/fig/2/fig.js?callback=orb.orb_fig\">\n",
    "    <link href=\"//static.bbc.co.uk\" rel=\"preconnect\" crossorigin>\n",
    "    <link href=\"//nav.files.bbci.co.uk\" rel=\"preconnect\" crossorigin>\n",
    "    <link href=\"//m.files.bbci.co.uk\" rel=\"preconnect\" crossorigin>\n",
    "    <link rel=\"dns-prefetch\" href=\"//mybbc.files.bbci.co.uk\">\n",
    "    <link rel=\"dns-prefetch\" href=\"//ssl.bbc.co.uk/\">"
   ]
  },
  {
   "cell_type": "code",
   "execution_count": 6,
   "metadata": {},
   "outputs": [],
   "source": [
    "# Parsing response to BeautifulSoup to handle it\n",
    "soup = bs(response.text)"
   ]
  },
  {
   "cell_type": "code",
   "execution_count": 7,
   "metadata": {},
   "outputs": [
    {
     "data": {
      "text/plain": [
       "bs4.BeautifulSoup"
      ]
     },
     "execution_count": 7,
     "metadata": {},
     "output_type": "execute_result"
    }
   ],
   "source": [
    "type(soup)"
   ]
  },
  {
   "cell_type": "code",
   "execution_count": 8,
   "metadata": {},
   "outputs": [],
   "source": [
    "#To get help in order to use the created soup variable from bs4.BeautifulSoup type\n",
    "\n",
    "# help(soup)"
   ]
  },
  {
   "cell_type": "raw",
   "metadata": {},
   "source": [
    "Help on BeautifulSoup in module bs4 object:\n",
    "\n",
    "class BeautifulSoup(bs4.element.Tag)\n",
    " |  BeautifulSoup(markup='', features=None, builder=None, parse_only=None, from_encoding=None, exclude_encodings=None, element_classes=None, **kwargs)\n",
    " |  \n",
    " |  A data structure..."
   ]
  },
  {
   "cell_type": "markdown",
   "metadata": {},
   "source": [
    "## Use the BeautifulSoup object to gather informations that we want"
   ]
  },
  {
   "cell_type": "markdown",
   "metadata": {},
   "source": [
    "> Here we want to get all informations about publications of the target web page.\n",
    "We use Browser inspector to do that.\n",
    "\n",
    "> We found that each publication is in `<li>` tag the whole in `<ol>` tag with attribute `class=\"gs-u-m0 gs-u-p0 lx-stream__feed qa-stream\"`. We'll use `BeautifulSoup` methods `find` and `find_all` to retrieve tags which contain useful data.\n",
    "\n",
    "\n",
    "<div align='center'>\n",
    "\n",
    "<img src=\"https://drive.google.com/uc?export=view&id=1EDKWf9Nt7nQ53T1JwupAOYqJ2CjrJFAe\" alt=\"BBC Africa Sport inspecting in Google Chrome\" >\n",
    "\n",
    "</div>\n",
    "Source : Emmanuel KOUPOH"
   ]
  },
  {
   "cell_type": "markdown",
   "metadata": {},
   "source": [
    "> After inpection, We found that there have two main types of publications :  `articles (containing image and text)` and `video reportages`. Then we'll follow the next steps to do our Scraping : \n",
    "\n",
    "1.   Isolate the tag `<ol>` which contains all publications ;\n",
    "1.   Gather each `<li>` which represents a publication ; \n",
    "1.   Make a prototype for each of two main types of publications ; \n",
    "1.   Run a loop over all `<li>` of isolated the `<ol>`."
   ]
  },
  {
   "cell_type": "markdown",
   "metadata": {},
   "source": [
    "### Isolate the tag `<ol>` which contains all publications"
   ]
  },
  {
   "cell_type": "code",
   "execution_count": 9,
   "metadata": {},
   "outputs": [],
   "source": [
    "publications_container = soup.find(\"ol\", {\"class\" : \"gs-u-m0 gs-u-p0 lx-stream__feed qa-stream\"} )"
   ]
  },
  {
   "cell_type": "markdown",
   "metadata": {},
   "source": [
    "Just an info : find method return a tag that we have to handle like a BoutifulSoup object."
   ]
  },
  {
   "cell_type": "code",
   "execution_count": 10,
   "metadata": {},
   "outputs": [
    {
     "name": "stdout",
     "output_type": "stream",
     "text": [
      "<ol class=\"gs-u-m0 gs-u-p0 lx-stream__feed qa-stream\" data-reactid=\".wu12hvz5v6.1.0.1.1\">\n",
      " <noscript data-reactid=\".wu12hvz5v6.1.0.1.1.0\">\n",
      " </noscript>\n",
      " <li class=\"lx-stream__post-container placeholder-animation-finished\" data-reactid=\".wu12hvz5v6.1.0.1.1.1:$post-53279666\">\n",
      "  <article aria-labelledby=\"title_53279666\" class=\"qa-post gs-u-pb-alt+ lx-stream-post gs-u-pt-alt+ gs-u-align-left\" data-reactid=\".wu12hvz5v6.1.0.1.1.1:$post-53279666.0\" id=\"post_53279666\">\n",
      "   <div class=\"gs-u-mb-\" data-reactid=\".wu12hvz5v6.1.0.1.1.1:$post-53279666.0.0\">\n",
      "    <time class=\"lx-stream-post__meta-time gs-u-align-middle gs-u-display-inline-block gs-u-mr0@m gs-u-mr gel-long-primer\" data-reactid=\".wu12hvz5v6.1.0.1.1.1:$post-53279666.0.0.0\">\n",
      "     <span class=\"gs-u-vh qa-visually-hidden-meta\" data-re...\n"
     ]
    }
   ],
   "source": [
    "print(f\"{publications_container.prettify()[:788]}...\")"
   ]
  },
  {
   "cell_type": "markdown",
   "metadata": {},
   "source": [
    "### Gather each `<li>` which represents a publication"
   ]
  },
  {
   "cell_type": "code",
   "execution_count": 11,
   "metadata": {},
   "outputs": [],
   "source": [
    "publications_list = publications_container.find_all(\"li\", {\"class\" : \"lx-stream__post-container placeholder-animation-finished\"} )"
   ]
  },
  {
   "cell_type": "markdown",
   "metadata": {},
   "source": [
    "Just an info : find_all method return a list of tags and each tag have to be handle like a BoutifulSoup object."
   ]
  },
  {
   "cell_type": "code",
   "execution_count": 12,
   "metadata": {},
   "outputs": [
    {
     "name": "stdout",
     "output_type": "stream",
     "text": [
      "How many publications do we have in our container of publications : 10\n"
     ]
    }
   ],
   "source": [
    "print(f\"How many publications do we have in our container of publications : {len(publications_list)}\")"
   ]
  },
  {
   "cell_type": "markdown",
   "metadata": {},
   "source": [
    "\n",
    "> We see that first and second publications are respectivement a `video reportage` and a `readable article (containing image and text)`. Then we'll use them to build our prototypes.\n",
    "\n",
    "<div align='center'>\n",
    "\n",
    "<img src=\"https://drive.google.com/uc?export=view&id=10TxXXWYc8okDPpcprVPcvZQQpaneu0fw\" alt=\"First and Second publications on BBC Africa Sport inspecting in Google Chrome\" >\n",
    "\n",
    "</div>\n",
    "Source : Emmanuel KOUPOH\n",
    "\n",
    "____"
   ]
  },
  {
   "cell_type": "markdown",
   "metadata": {},
   "source": [
    "### Make a prototype for each of two main types of publications"
   ]
  },
  {
   "cell_type": "markdown",
   "metadata": {},
   "source": [
    "**Note:** We have two similar informations: Date and Title block"
   ]
  },
  {
   "cell_type": "markdown",
   "metadata": {},
   "source": [
    "#### Video reportage "
   ]
  },
  {
   "cell_type": "code",
   "execution_count": 13,
   "metadata": {},
   "outputs": [],
   "source": [
    "video = publications_list[0]"
   ]
  },
  {
   "cell_type": "markdown",
   "metadata": {},
   "source": [
    "##### Get Date"
   ]
  },
  {
   "cell_type": "code",
   "execution_count": 14,
   "metadata": {},
   "outputs": [
    {
     "data": {
      "text/plain": [
       "<span aria-hidden=\"true\" class=\"qa-post-auto-meta\" data-reactid=\".wu12hvz5v6.1.0.1.1.1:$post-53279666.0.0.0.1\">18:59 3 juillet 2020</span>"
      ]
     },
     "execution_count": 14,
     "metadata": {},
     "output_type": "execute_result"
    }
   ],
   "source": [
    "datetime_cell = video.find(\"span\", {\"class\": \"qa-post-auto-meta\"})\n",
    "datetime_cell"
   ]
  },
  {
   "cell_type": "markdown",
   "metadata": {},
   "source": [
    "We get date as french string ( '18:59 3 juillet 2020' ), so we conveter it in english and parse it to datetime\n"
   ]
  },
  {
   "cell_type": "code",
   "execution_count": 15,
   "metadata": {},
   "outputs": [
    {
     "data": {
      "text/plain": [
       "datetime.datetime(2020, 7, 3, 18, 59)"
      ]
     },
     "execution_count": 15,
     "metadata": {},
     "output_type": "execute_result"
    }
   ],
   "source": [
    "date = datetime_cell.text.strip().lower().replace('janvier', 'january').replace('février', 'february').replace('mars', 'march').replace('avril', 'april').replace('mai', 'may').replace('juin', 'june').replace('juillet', 'july').replace('août', 'august').replace('septembre', 'september').replace('octobre', 'october').replace('novembre', 'november').replace('décembre', 'december')\n",
    "date = parse(date, fuzzy_with_tokens=True)[0]\n",
    "date"
   ]
  },
  {
   "cell_type": "markdown",
   "metadata": {},
   "source": [
    "##### Get article's Title and Link"
   ]
  },
  {
   "cell_type": "code",
   "execution_count": 16,
   "metadata": {
    "scrolled": true
   },
   "outputs": [
    {
     "name": "stdout",
     "output_type": "stream",
     "text": [
      "Title : Rencontre avec l'enfant boxeur le plus rapide du monde\n",
      "Link : https://www.bbc.com/afrique/media-53279666\n"
     ]
    }
   ],
   "source": [
    "header = video.find(\"a\", {\"class\": \"qa-heading-link lx-stream-post__header-link\"})\n",
    "\n",
    "title = header.text.strip()\n",
    "link = \"https://www.bbc.com\" + header['href']\n",
    "\n",
    "print(f\"Title : {title}\\nLink : {link}\")"
   ]
  },
  {
   "cell_type": "markdown",
   "metadata": {},
   "source": [
    "##### Get Video link\n"
   ]
  },
  {
   "cell_type": "code",
   "execution_count": 17,
   "metadata": {},
   "outputs": [],
   "source": [
    "video_response = requests.get(link)\n",
    "video_soup = bs(video_response.text)\n",
    "\n",
    "video_cell = video_soup.find(\"figure\", {\"class\": \"Figure-sc-6a3dhy-0 gJUCFc\"})\n"
   ]
  },
  {
   "cell_type": "code",
   "execution_count": 18,
   "metadata": {},
   "outputs": [
    {
     "data": {
      "text/plain": [
       "<figure class=\"Figure-sc-6a3dhy-0 gJUCFc\"><div class=\"StyledVideoContainer-sc-13p1a4d-0 bpuDKK\"><iframe allow=\"autoplay; fullscreen\" allowfullscreen=\"\" class=\"StyledIframe-fuo2ed-0 dIyDYU\" scrolling=\"no\" src=\"https://polling.bbc.co.uk/ws/av-embeds/cps/afrique/media-53279666/p08jsrj3/fr\" title=\"Lecteur média\"></iframe><noscript><div class=\"StyledWrapper-sc-1pnftlt-0 jywlaE\"><img alt=\"\" aria-hidden=\"true\" class=\"StyledImg-sc-7vx2mr-0 hIxkbt\" src=\"https://ichef.bbci.co.uk/images/ic/1024x576/p08jssj5.jpg\" srcset=\"https://ichef.bbci.co.uk/images/ic/1024x576/p08jssj5.jpg 240w, https://ichef.bbci.co.uk/images/ic/1024x576/p08jssj5.jpg 320w, https://ichef.bbci.co.uk/images/ic/1024x576/p08jssj5.jpg 480w, https://ichef.bbci.co.uk/images/ic/1024x576/p08jssj5.jpg 624w, https://ichef.bbci.co.uk/images/ic/1024x576/p08jssj5.jpg 800w\"/><div class=\"MessageWrapper-sc-1pnftlt-1 bHbRwS\"><strong class=\"StyledMessage-sc-1pnftlt-2 iRlUPR\">Pour regarder ce contenu, veuillez activer JavaScript ou essayer un autre navigateur.</strong></div></div></noscript></div></figure>"
      ]
     },
     "execution_count": 18,
     "metadata": {},
     "output_type": "execute_result"
    }
   ],
   "source": [
    "video_cell"
   ]
  },
  {
   "cell_type": "code",
   "execution_count": 19,
   "metadata": {},
   "outputs": [],
   "source": [
    "video_cover_img = video_cell.img['src']"
   ]
  },
  {
   "cell_type": "code",
   "execution_count": 20,
   "metadata": {},
   "outputs": [],
   "source": [
    "video_link = video_cell.iframe['src']"
   ]
  },
  {
   "cell_type": "markdown",
   "metadata": {},
   "source": [
    "#### Article"
   ]
  },
  {
   "cell_type": "code",
   "execution_count": 21,
   "metadata": {},
   "outputs": [],
   "source": [
    "image = publications_list[1]"
   ]
  },
  {
   "cell_type": "markdown",
   "metadata": {},
   "source": [
    "##### Get Image of article"
   ]
  },
  {
   "cell_type": "code",
   "execution_count": 22,
   "metadata": {},
   "outputs": [
    {
     "data": {
      "text/plain": [
       "{'240w': 'https://ichef.bbci.co.uk/live-experience/cps/240/cpsprodpb/CE90/production/_113108825_whatsubject.jpg',\n",
       " '320w': 'https://ichef.bbci.co.uk/live-experience/cps/320/cpsprodpb/CE90/production/_113108825_whatsubject.jpg',\n",
       " '480w': 'https://ichef.bbci.co.uk/live-experience/cps/480/cpsprodpb/CE90/production/_113108825_whatsubject.jpg'}"
      ]
     },
     "execution_count": 22,
     "metadata": {},
     "output_type": "execute_result"
    }
   ],
   "source": [
    "div_image_cell = image.find(\"div\", {\"class\": \"lx-stream-related-story--index-image-wrapper qa-story-image-wrapper\"})\n",
    "\n",
    "image_cell = div_image_cell.img\n",
    "img_srcs_list = image_cell['srcset'].split()\n",
    "img_srcs_dict ={ img_srcs_list[i+1][:-1] : img_srcs_list[i]  for i in range( 0, len(img_srcs_list) // 2, 2) }\n",
    "\n",
    "img_srcs_dict"
   ]
  },
  {
   "cell_type": "markdown",
   "metadata": {},
   "source": [
    "##### Get article Primer"
   ]
  },
  {
   "cell_type": "code",
   "execution_count": 23,
   "metadata": {
    "scrolled": false
   },
   "outputs": [
    {
     "data": {
      "text/plain": [
       "'Comment le premier titre de première division de Liverpool en Angleterre depuis 30 ans a été alimenté par des joueurs africains.'"
      ]
     },
     "execution_count": 23,
     "metadata": {},
     "output_type": "execute_result"
    }
   ],
   "source": [
    "primer_cell = image.find(\"p\", {\"class\": \"lx-stream-related-story--summary qa-story-summary\"})\n",
    "\n",
    "primer = primer_cell.text \n",
    "primer"
   ]
  },
  {
   "cell_type": "markdown",
   "metadata": {},
   "source": [
    "#### Prototypes"
   ]
  },
  {
   "cell_type": "markdown",
   "metadata": {},
   "source": [
    "***Note***: We are looking for a condition here to differentiate **video reportages** from **articles**."
   ]
  },
  {
   "cell_type": "code",
   "execution_count": 24,
   "metadata": {
    "scrolled": true
   },
   "outputs": [
    {
     "data": {
      "text/plain": [
       "0"
      ]
     },
     "execution_count": 24,
     "metadata": {},
     "output_type": "execute_result"
    }
   ],
   "source": [
    "len(video.find_all(\"img\"))"
   ]
  },
  {
   "cell_type": "code",
   "execution_count": 25,
   "metadata": {
    "scrolled": true
   },
   "outputs": [
    {
     "data": {
      "text/plain": [
       "1"
      ]
     },
     "execution_count": 25,
     "metadata": {},
     "output_type": "execute_result"
    }
   ],
   "source": [
    "len(image.find_all(\"img\"))"
   ]
  },
  {
   "cell_type": "markdown",
   "metadata": {},
   "source": [
    "***Note***: Building method prototypes for data gathering : `video` for **video reportages** and `article` for **articles**. ."
   ]
  },
  {
   "cell_type": "code",
   "execution_count": 26,
   "metadata": {},
   "outputs": [],
   "source": [
    "def video(publication_tag):\n",
    "    video = publication_tag\n",
    "    \n",
    "    #Get date\n",
    "    datetime_cell = video.find(\"span\", {\"class\": \"qa-post-auto-meta\"})\n",
    "    date = datetime_cell.text.strip().lower().replace('janvier', 'january').replace('février', 'february').replace('mars', 'march').replace('avril', 'april').replace('mai', 'may').replace('juin', 'june').replace('juillet', 'july').replace('août', 'august').replace('septembre', 'september').replace('octobre', 'october').replace('novembre', 'november').replace('décembre', 'december')\n",
    "    date = parse(date, fuzzy_with_tokens=True)[0]\n",
    "    \n",
    "    #Get publication's title and link\n",
    "    header = video.find(\"a\", {\"class\": \"qa-heading-link lx-stream-post__header-link\"})\n",
    "    title = header.text.strip()\n",
    "    link = \"https://www.bbc.com\" + header['href']\n",
    "\n",
    "    #Get video link\n",
    "    video_response = requests.get(link)\n",
    "    video_soup = bs(video_response.text)\n",
    "    video_cell = video_soup.find(\"figure\", {\"class\": \"Figure-sc-6a3dhy-0 gJUCFc\"})\n",
    "    video_cover_img = video_cell.img['src']\n",
    "    video_link = video_cell.iframe['src']\n",
    "    \n",
    "    #Save and structure gathered informations\n",
    "    data =  {\n",
    "        \"type\" : 'video',\n",
    "        \"publication_link\" : link,\n",
    "        \"date\" : date, \n",
    "        \"title\" : title, \n",
    "        \"video_cover\" : video_cover_img, \n",
    "        \"video_link\" : video_link, \n",
    "    }\n",
    "    return data\n",
    "\n",
    "\n",
    "def article(publication_tag):\n",
    "    image = publication_tag\n",
    "    \n",
    "    #Get date\n",
    "    datetime_cell = image.find(\"span\", {\"class\": \"qa-post-auto-meta\"})\n",
    "    date = datetime_cell.text.strip().lower().replace('janvier', 'january').replace('février', 'february').replace('mars', 'march').replace('avril', 'april').replace('mai', 'may').replace('juin', 'june').replace('juillet', 'july').replace('août', 'august').replace('septembre', 'september').replace('octobre', 'october').replace('novembre', 'november').replace('décembre', 'december')\n",
    "    date = parse(date, fuzzy_with_tokens=True)[0]\n",
    "    \n",
    "    #Get title and link\n",
    "    header = image.find(\"a\", {\"class\": \"qa-heading-link lx-stream-post__header-link\"})\n",
    "    title = header.text.strip()\n",
    "    link = \"https://www.bbc.com\" + header['href']\n",
    "    \n",
    "    #Get publication cover source set : { '320W' : link, '720W' : link} : many size for reponsivity\n",
    "    div_image_cell = image.find(\"div\", {\"class\": \"lx-stream-related-story--index-image-wrapper qa-story-image-wrapper\"})\n",
    "    image_cell = div_image_cell.img\n",
    "    img_srcs_list = image_cell['srcset'].split()\n",
    "    img_srcs_dict = { img_srcs_list[i+1][:-1] : img_srcs_list[i]  for i in range( 0, len(img_srcs_list) // 2, 2) }\n",
    "    \n",
    "    #Get article primer \n",
    "    primer_cell = image.find(\"p\", {\"class\": \"lx-stream-related-story--summary qa-story-summary\"})\n",
    "    primer = primer_cell.text \n",
    "\n",
    "    #Save and structure gathered informations\n",
    "    data =  {\n",
    "        \"type\" : 'article',\n",
    "        \"publication_link\" : link,\n",
    "        \"date\" : date, \n",
    "        \"title\" : title, \n",
    "        \"img_srcs_dict\" : img_srcs_dict, \n",
    "        \"primer\" : primer,\n",
    "    }\n",
    "    return data"
   ]
  },
  {
   "cell_type": "markdown",
   "metadata": {},
   "source": [
    "### Run a loop over all `<li>` of isolated the `<ol>` "
   ]
  },
  {
   "cell_type": "code",
   "execution_count": 27,
   "metadata": {},
   "outputs": [
    {
     "name": "stdout",
     "output_type": "stream",
     "text": [
      "We got '10' publication(s) on this page\n"
     ]
    }
   ],
   "source": [
    "store = []\n",
    "for publication in publications_list: \n",
    "    if len(publication.find_all(\"img\")) == 1 :\n",
    "        store += [article(publication)]\n",
    "    else:\n",
    "        store += [video(publication)]\n",
    "\n",
    "        \n",
    "print(f\"We got '{len(store)}' publication(s) on this page\")"
   ]
  },
  {
   "cell_type": "code",
   "execution_count": 28,
   "metadata": {
    "scrolled": false
   },
   "outputs": [
    {
     "data": {
      "text/html": [
       "<div>\n",
       "<style scoped>\n",
       "    .dataframe tbody tr th:only-of-type {\n",
       "        vertical-align: middle;\n",
       "    }\n",
       "\n",
       "    .dataframe tbody tr th {\n",
       "        vertical-align: top;\n",
       "    }\n",
       "\n",
       "    .dataframe thead th {\n",
       "        text-align: right;\n",
       "    }\n",
       "</style>\n",
       "<table border=\"1\" class=\"dataframe\">\n",
       "  <thead>\n",
       "    <tr style=\"text-align: right;\">\n",
       "      <th></th>\n",
       "      <th>type</th>\n",
       "      <th>publication_link</th>\n",
       "      <th>date</th>\n",
       "      <th>title</th>\n",
       "      <th>video_cover</th>\n",
       "      <th>video_link</th>\n",
       "      <th>img_srcs_dict</th>\n",
       "      <th>primer</th>\n",
       "    </tr>\n",
       "  </thead>\n",
       "  <tbody>\n",
       "    <tr>\n",
       "      <th>0</th>\n",
       "      <td>video</td>\n",
       "      <td>https://www.bbc.com/afrique/media-53279666</td>\n",
       "      <td>2020-07-03 18:59:00</td>\n",
       "      <td>Rencontre avec l'enfant boxeur le plus rapide ...</td>\n",
       "      <td>https://ichef.bbci.co.uk/images/ic/1024x576/p0...</td>\n",
       "      <td>https://polling.bbc.co.uk/ws/av-embeds/cps/afr...</td>\n",
       "      <td>NaN</td>\n",
       "      <td>NaN</td>\n",
       "    </tr>\n",
       "    <tr>\n",
       "      <th>1</th>\n",
       "      <td>article</td>\n",
       "      <td>https://www.bbc.com/afrique/sports-53191371</td>\n",
       "      <td>2020-06-26 14:19:00</td>\n",
       "      <td>Liverpool : les Africains qui ont aidé à rempo...</td>\n",
       "      <td>NaN</td>\n",
       "      <td>NaN</td>\n",
       "      <td>{'240w': 'https://ichef.bbci.co.uk/live-experi...</td>\n",
       "      <td>Comment le premier titre de première division ...</td>\n",
       "    </tr>\n",
       "    <tr>\n",
       "      <th>2</th>\n",
       "      <td>article</td>\n",
       "      <td>https://www.bbc.com/afrique/sports-53183843</td>\n",
       "      <td>2020-06-25 18:00:00</td>\n",
       "      <td>Liverpool à deux points du titre de Premier Le...</td>\n",
       "      <td>NaN</td>\n",
       "      <td>NaN</td>\n",
       "      <td>{'240w': 'https://ichef.bbci.co.uk/live-experi...</td>\n",
       "      <td>Mohamed Salah estime que le moment est venu po...</td>\n",
       "    </tr>\n",
       "    <tr>\n",
       "      <th>3</th>\n",
       "      <td>article</td>\n",
       "      <td>https://www.bbc.com/afrique/sports-53092788</td>\n",
       "      <td>2020-06-18 15:47:00</td>\n",
       "      <td>Marcus Rashford: la victoire d’un footballeur ...</td>\n",
       "      <td>NaN</td>\n",
       "      <td>NaN</td>\n",
       "      <td>{'240w': 'https://ichef.bbci.co.uk/live-experi...</td>\n",
       "      <td>Le gouvernement britannique a annoncé qu'il of...</td>\n",
       "    </tr>\n",
       "    <tr>\n",
       "      <th>4</th>\n",
       "      <td>article</td>\n",
       "      <td>https://www.bbc.com/afrique/sports-53066460</td>\n",
       "      <td>2020-06-17 10:36:00</td>\n",
       "      <td>8ème titre consécutif du Bayern de Munich</td>\n",
       "      <td>NaN</td>\n",
       "      <td>NaN</td>\n",
       "      <td>{'240w': 'https://ichef.bbci.co.uk/live-experi...</td>\n",
       "      <td>Une passe décisive de Robert Lewandowski à Jer...</td>\n",
       "    </tr>\n",
       "  </tbody>\n",
       "</table>\n",
       "</div>"
      ],
      "text/plain": [
       "      type                             publication_link                date  \\\n",
       "0    video   https://www.bbc.com/afrique/media-53279666 2020-07-03 18:59:00   \n",
       "1  article  https://www.bbc.com/afrique/sports-53191371 2020-06-26 14:19:00   \n",
       "2  article  https://www.bbc.com/afrique/sports-53183843 2020-06-25 18:00:00   \n",
       "3  article  https://www.bbc.com/afrique/sports-53092788 2020-06-18 15:47:00   \n",
       "4  article  https://www.bbc.com/afrique/sports-53066460 2020-06-17 10:36:00   \n",
       "\n",
       "                                               title  \\\n",
       "0  Rencontre avec l'enfant boxeur le plus rapide ...   \n",
       "1  Liverpool : les Africains qui ont aidé à rempo...   \n",
       "2  Liverpool à deux points du titre de Premier Le...   \n",
       "3  Marcus Rashford: la victoire d’un footballeur ...   \n",
       "4          8ème titre consécutif du Bayern de Munich   \n",
       "\n",
       "                                         video_cover  \\\n",
       "0  https://ichef.bbci.co.uk/images/ic/1024x576/p0...   \n",
       "1                                                NaN   \n",
       "2                                                NaN   \n",
       "3                                                NaN   \n",
       "4                                                NaN   \n",
       "\n",
       "                                          video_link  \\\n",
       "0  https://polling.bbc.co.uk/ws/av-embeds/cps/afr...   \n",
       "1                                                NaN   \n",
       "2                                                NaN   \n",
       "3                                                NaN   \n",
       "4                                                NaN   \n",
       "\n",
       "                                       img_srcs_dict  \\\n",
       "0                                                NaN   \n",
       "1  {'240w': 'https://ichef.bbci.co.uk/live-experi...   \n",
       "2  {'240w': 'https://ichef.bbci.co.uk/live-experi...   \n",
       "3  {'240w': 'https://ichef.bbci.co.uk/live-experi...   \n",
       "4  {'240w': 'https://ichef.bbci.co.uk/live-experi...   \n",
       "\n",
       "                                              primer  \n",
       "0                                                NaN  \n",
       "1  Comment le premier titre de première division ...  \n",
       "2  Mohamed Salah estime que le moment est venu po...  \n",
       "3  Le gouvernement britannique a annoncé qu'il of...  \n",
       "4  Une passe décisive de Robert Lewandowski à Jer...  "
      ]
     },
     "execution_count": 28,
     "metadata": {},
     "output_type": "execute_result"
    }
   ],
   "source": [
    "df_store = pd.DataFrame(store)\n",
    "df_store.head()"
   ]
  },
  {
   "cell_type": "markdown",
   "metadata": {},
   "source": [
    "# 💻<span style='color:green'> Authors & Contributors </span>\n",
    "\n",
    "<div align='center'>\n",
    "    <table>\n",
    "        <thead>\n",
    "            <tr>\n",
    "                <th>Name</th>\n",
    "                <th>Zindi ID</th>\n",
    "                <th>Github ID</th>\n",
    "            </tr>\n",
    "        </thead>\n",
    "        <tbody>\n",
    "            <tr>\n",
    "                <td>Muhamed TUO</td>\n",
    "                <td><a href=\"https://zindi.africa/users/Muhamed_Tuo\" target=\"_blank\" rel=\"nofollow\">@Nazario😁</a></td>\n",
    "                <td><a href=\"https://github.com/NazarioR9\" target=\"_blank\" rel=\"nofollow\">@NazarioR9</a></td>\n",
    "            </tr>\n",
    "            <tr>\n",
    "                <td>Cédric MANOUAN</td>\n",
    "                <td><a href=\"https://zindi.africa/users/I_am_Zeus_AI\" target=\"_blank\" rel=\"nofollow\">@I_am_Zeus_AI😆</a></td>\n",
    "                <td><a href=\"https://github.com/dric2018\" target=\"_blank\" rel=\"nofollow\">@dric2018</a></td>\n",
    "            </tr>\n",
    "            <tr>\n",
    "                <td>Emmanuel KOUPOH</td>\n",
    "                <td><a href=\"https://zindi.africa/users/eaedk\" target=\"_blank\" rel=\"nofollow\">@eaedk😂</a></td>\n",
    "                <td><a href=\"https://github.com/eaedk\" target=\"_blank\" rel=\"nofollow\">@eaedk</a></td>\n",
    "            </tr>\n",
    "            <tr>\n",
    "                <td></td>\n",
    "                <td></td>\n",
    "                <td></td>\n",
    "            </tr>\n",
    "        </tbody>\n",
    "    </table>\n",
    "</div>\n"
   ]
  }
 ],
 "metadata": {
  "kernelspec": {
   "display_name": "Python 3",
   "language": "python",
   "name": "python3"
  },
  "language_info": {
   "codemirror_mode": {
    "name": "ipython",
    "version": 3
   },
   "file_extension": ".py",
   "mimetype": "text/x-python",
   "name": "python",
   "nbconvert_exporter": "python",
   "pygments_lexer": "ipython3",
   "version": "3.7.7"
  },
  "toc": {
   "base_numbering": 1,
   "nav_menu": {},
   "number_sections": true,
   "sideBar": true,
   "skip_h1_title": false,
   "title_cell": "Table of Contents",
   "title_sidebar": "Contents",
   "toc_cell": false,
   "toc_position": {
    "height": "calc(100% - 180px)",
    "left": "10px",
    "top": "150px",
    "width": "165px"
   },
   "toc_section_display": true,
   "toc_window_display": true
  }
 },
 "nbformat": 4,
 "nbformat_minor": 4
}
